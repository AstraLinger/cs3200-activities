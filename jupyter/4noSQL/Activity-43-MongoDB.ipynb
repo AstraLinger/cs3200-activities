{
 "cells": [
  {
   "cell_type": "markdown",
   "metadata": {},
   "source": [
    "# MongoDB\n",
    "\n",
    "## Some fiddling with setup is still required\n",
    "You need a running MongoDB instance on the default host and port on your computer for this exercise. We will then interact with MongoDB with the help of a Python modul called `'pymongo'`. \n",
    "\n",
    "\n",
    "1. First install MongoDB. Depending on whether you use **anaconda** or **brew** type the following command on the terminal\n",
    "```\n",
    "conda install -c anaconda mongodb\n",
    "```\n",
    "```\n",
    "brew install mongodb\n",
    "```\n",
    "In case this does not work for you, please followw the detailed instructions from the MongoDB website: https://docs.mongodb.com/manual/installation/\n",
    "\n",
    "2. Then run the following command from the terminal to install the 'pymongo' package for Python. Depending on whether you used **anaconda** or **pip** to install your dependencies, run either of following commands on your terminal:\n",
    "```\n",
    "pip install pymongo\n",
    "```\n",
    "```\n",
    "conda install -c anaconda pymongo\n",
    "```\n",
    "\n",
    "3. Before you start MongoDB for the first time, you need to create a directory to which the mongod process can write data. We later need to specify this directory when we start MongoDB. I named my director ``mongodb-data``:\n",
    "```\n",
    "mkdir ~/mongodb-data\n",
    "```\n",
    "\n",
    "4. Then, before you run the notebook, start your MongoDB instance by typing following command into your terminal:\n",
    "```\n",
    "mongod --dbpath ~/mongodb-data\n",
    "```\n",
    "You can stop it again with\n",
    "```\n",
    "CTRL + C\n",
    "```\n",
    "\n",
    "\n",
    "In case you run into problems, please post the steps you took, your error message, and a screenshot on Piazza.\n",
    "\n",
    "## Let's get started"
   ]
  },
  {
   "cell_type": "code",
   "execution_count": null,
   "metadata": {},
   "outputs": [],
   "source": [
    "from pymongo import MongoClient"
   ]
  },
  {
   "cell_type": "code",
   "execution_count": null,
   "metadata": {},
   "outputs": [],
   "source": [
    "maxSevSelDelay = 1 # Assume 1ms maximum server selection delay\n",
    "client = MongoClient(serverSelectionTimeoutMS = maxSevSelDelay)"
   ]
  },
  {
   "cell_type": "code",
   "execution_count": null,
   "metadata": {},
   "outputs": [],
   "source": [
    "# Verify that the instance is running\n",
    "try:\n",
    "    client.admin.command('ismaster') # The ismaster command is cheap and does not require auth\n",
    "except Exception as ex:\n",
    "    # ex\n",
    "    print \"We have a problem: the server is not running\""
   ]
  },
  {
   "cell_type": "markdown",
   "metadata": {},
   "source": [
    "## Class examples"
   ]
  },
  {
   "cell_type": "code",
   "execution_count": null,
   "metadata": {},
   "outputs": [],
   "source": [
    "client.delete_database['test-database']\n",
    "\n",
    "db = client['test-database']"
   ]
  },
  {
   "cell_type": "code",
   "execution_count": null,
   "metadata": {},
   "outputs": [],
   "source": [
    "users = db['user']\n",
    "\n",
    "users.drop()"
   ]
  },
  {
   "cell_type": "code",
   "execution_count": null,
   "metadata": {},
   "outputs": [],
   "source": [
    "user1 = {\"name\": \"Alice\",\n",
    "         \"age\" : 21,\n",
    "         \"status\": \"A\",\n",
    "         \"groups\": [\"algorithms\", \"theory\"]}"
   ]
  },
  {
   "cell_type": "code",
   "execution_count": null,
   "metadata": {},
   "outputs": [],
   "source": [
    "users.count()"
   ]
  },
  {
   "cell_type": "code",
   "execution_count": null,
   "metadata": {},
   "outputs": [],
   "source": [
    "uid = users.insert_one(user1).inserted_id\n",
    "uid"
   ]
  },
  {
   "cell_type": "code",
   "execution_count": null,
   "metadata": {},
   "outputs": [],
   "source": [
    "uid = users.insert_one(\n",
    "    {\"name\": \"Bob\",\n",
    "     \"age\" : 18,\n",
    "     \"status\": \"B\",\n",
    "     \"groups\": [\"databases\", \"cooking\"]}\n",
    ").inserted_id\n",
    "uid"
   ]
  },
  {
   "cell_type": "code",
   "execution_count": null,
   "metadata": {},
   "outputs": [],
   "source": [
    "# List all of the collections in our database:\n",
    "db.collection_names(include_system_collections=False)"
   ]
  },
  {
   "cell_type": "code",
   "execution_count": null,
   "metadata": {
    "scrolled": true
   },
   "outputs": [],
   "source": [
    "users.count()"
   ]
  },
  {
   "cell_type": "code",
   "execution_count": null,
   "metadata": {},
   "outputs": [],
   "source": [
    "# return a single document (matching a query)\n",
    "users.find_one({\"name\" : \"Bob\"})"
   ]
  },
  {
   "cell_type": "code",
   "execution_count": null,
   "metadata": {},
   "outputs": [],
   "source": [
    "user3 = {\"name\": \"Charly\",\n",
    "         \"age\" : 22,\n",
    "         \"status\": \"A\",\n",
    "         \"groups\": [\"databases\", \"cars\"]}\n",
    "user4 = {\"name\": \"Dorothee\",\n",
    "         \"age\" : 16,\n",
    "         \"status\": \"A\",\n",
    "         \"groups\": [\"cars\", \"sports\"]}"
   ]
  },
  {
   "cell_type": "code",
   "execution_count": null,
   "metadata": {},
   "outputs": [],
   "source": [
    "result = users.insert_many([user3, user4])\n",
    "\n",
    "users.count()"
   ]
  },
  {
   "cell_type": "code",
   "execution_count": null,
   "metadata": {},
   "outputs": [],
   "source": [
    "import pprint # allows to pretty print\n",
    "\n",
    "# find users of age 18\n",
    "for user in users.find({\"age\": 18}): \n",
    "    pprint.pprint(user)"
   ]
  },
  {
   "cell_type": "code",
   "execution_count": null,
   "metadata": {},
   "outputs": [],
   "source": [
    "# find users younger than 19\n",
    "for user in users.find({\"age\": {\"$lt\": 19}}): \n",
    "    pprint.pprint(user)"
   ]
  },
  {
   "cell_type": "code",
   "execution_count": null,
   "metadata": {},
   "outputs": [],
   "source": [
    "# find names of users younger than 19\n",
    "for user in users.find({\"age\": {\"$lt\": 19}}, projection={\"name\": 1, \"_id\" : 0}): \n",
    "    pprint.pprint(user)"
   ]
  },
  {
   "cell_type": "markdown",
   "metadata": {},
   "source": [
    "For more examples see, e.g.:\n",
    "http://api.mongodb.com/python/current/tutorial.html"
   ]
  },
  {
   "cell_type": "markdown",
   "metadata": {},
   "source": [
    "## More examples"
   ]
  },
  {
   "cell_type": "code",
   "execution_count": null,
   "metadata": {},
   "outputs": [],
   "source": [
    "client.delete_database['example_db']\n",
    "\n",
    "# operator overloading is cool!\n",
    "db = client['example_db']\n",
    "db = client.example_db"
   ]
  },
  {
   "cell_type": "code",
   "execution_count": null,
   "metadata": {},
   "outputs": [],
   "source": [
    "# collections are tables\n",
    "collection = db['mycollection']"
   ]
  },
  {
   "cell_type": "code",
   "execution_count": null,
   "metadata": {},
   "outputs": [],
   "source": [
    "collection.count()"
   ]
  },
  {
   "cell_type": "code",
   "execution_count": null,
   "metadata": {},
   "outputs": [],
   "source": [
    "doc_id = collection.insert_one({\"name\": \"Peter\", \"age\" : 99})"
   ]
  },
  {
   "cell_type": "code",
   "execution_count": null,
   "metadata": {},
   "outputs": [],
   "source": [
    "print doc_id.inserted_id"
   ]
  },
  {
   "cell_type": "code",
   "execution_count": null,
   "metadata": {},
   "outputs": [],
   "source": [
    "collection.find_one()"
   ]
  },
  {
   "cell_type": "code",
   "execution_count": null,
   "metadata": {},
   "outputs": [],
   "source": [
    "collection.insert_one({\"name\": \"Ruth\", \"age\" : 93})"
   ]
  },
  {
   "cell_type": "code",
   "execution_count": null,
   "metadata": {},
   "outputs": [],
   "source": [
    "collection.find_one()"
   ]
  },
  {
   "cell_type": "code",
   "execution_count": null,
   "metadata": {},
   "outputs": [],
   "source": [
    "collection.find_one({\"name\" : \"Ruth\"})"
   ]
  },
  {
   "cell_type": "code",
   "execution_count": null,
   "metadata": {},
   "outputs": [],
   "source": [
    "collection.find_one({\"name\" : \"bob\"})"
   ]
  },
  {
   "cell_type": "code",
   "execution_count": null,
   "metadata": {},
   "outputs": [],
   "source": [
    "for r in collection.find({\"name\" : \"Ruth\"}):\n",
    "    print r"
   ]
  },
  {
   "cell_type": "code",
   "execution_count": null,
   "metadata": {},
   "outputs": [],
   "source": [
    "collection.insert_one({\"this_is\": \"bananas\", \"schemas\" : \"LOL\"})"
   ]
  },
  {
   "cell_type": "code",
   "execution_count": null,
   "metadata": {},
   "outputs": [],
   "source": [
    "for r in collection.find():\n",
    "    print r"
   ]
  },
  {
   "cell_type": "code",
   "execution_count": null,
   "metadata": {},
   "outputs": [],
   "source": [
    "collection.insert_one({\"russian\" : {\"nesting\" : {\"dolls\" : \"rock\"}}})"
   ]
  },
  {
   "cell_type": "code",
   "execution_count": null,
   "metadata": {},
   "outputs": [],
   "source": [
    "collection.find_one(\"russian\")"
   ]
  },
  {
   "cell_type": "code",
   "execution_count": null,
   "metadata": {},
   "outputs": [],
   "source": [
    "rec = collection.find_one({\"russian\":{\"$exists\":True}})\n",
    "print rec"
   ]
  },
  {
   "cell_type": "code",
   "execution_count": null,
   "metadata": {},
   "outputs": [],
   "source": [
    "rec['russian']"
   ]
  },
  {
   "cell_type": "code",
   "execution_count": null,
   "metadata": {},
   "outputs": [],
   "source": [
    "rec['russian']['nesting']['dolls']"
   ]
  },
  {
   "cell_type": "markdown",
   "metadata": {},
   "source": [
    "# IMDB exercise\n",
    "We try MongoDB for implementing the IMDB movie database. As a test run, we store a subset of the schema (Actors, Movies, Directors, and the connecting tables) and include a few tuples and queries. \n",
    "\n",
    "* We decided to store the movie data with a single collection (called movies). Each document is a movie with fields that include the attributes of amovie, a list of actors (including the actor attributes, and a list of roles they play in that movie), and a list of directors (including their respective attributes).\n",
    "\n",
    "* When you look for the attributes in the IMDB movie database, ignor the attributes movie id, director id, and actor id. We needed those for our PK FK relationships. Here now we don't neet them anymore.\n",
    "\n",
    "For the following problems you need to issue appropriate SQL queries over your local IMDB movie database to find out the missing attribute values (e.g., what is the name of actor with id `538826`, etc.."
   ]
  },
  {
   "cell_type": "markdown",
   "metadata": {},
   "source": [
    "**a)** Create a new movie collection and make sure that it is empty before you start adding your documents."
   ]
  },
  {
   "cell_type": "code",
   "execution_count": null,
   "metadata": {},
   "outputs": [],
   "source": []
  },
  {
   "cell_type": "markdown",
   "metadata": {},
   "source": [
    "**b)** Create an entry for the movie with movie id 476084, including all its attributes (like its name), together with all its directors, and three of its actors, namely those with actor ids 538826, 1794091, 1810514 as found in the IMDB movie database. For each of the actors, don't forget to include their attributes (like fname) and all roles they play in that movie."
   ]
  },
  {
   "cell_type": "code",
   "execution_count": null,
   "metadata": {},
   "outputs": [],
   "source": []
  },
  {
   "cell_type": "markdown",
   "metadata": {},
   "source": [
    "**c)** Create an entry for the movie with movie id 433969, together with all of its 3 directors as listed in our IMDB movie database. Ignore all actors in the movie, but include all movie attributes."
   ]
  },
  {
   "cell_type": "code",
   "execution_count": null,
   "metadata": {},
   "outputs": [],
   "source": []
  },
  {
   "cell_type": "markdown",
   "metadata": {},
   "source": [
    "**d)** Give a query to get the name of all movies and their directors who were made before 2010"
   ]
  },
  {
   "cell_type": "code",
   "execution_count": null,
   "metadata": {},
   "outputs": [],
   "source": []
  }
 ],
 "metadata": {
  "kernelspec": {
   "display_name": "Python 2",
   "language": "python",
   "name": "python2"
  },
  "language_info": {
   "codemirror_mode": {
    "name": "ipython",
    "version": 2
   },
   "file_extension": ".py",
   "mimetype": "text/x-python",
   "name": "python",
   "nbconvert_exporter": "python",
   "pygments_lexer": "ipython2",
   "version": "2.7.14"
  }
 },
 "nbformat": 4,
 "nbformat_minor": 1
}
