{
 "cells": [
  {
   "cell_type": "markdown",
   "metadata": {},
   "source": [
    "# Redis\n",
    "\n",
    "\n",
    "## Some setup is still required\n",
    "\n",
    "You need a running redis server on your computer for this exercise. Python makes it rather easy to achieve this. Run the following command from the terminal to install the 'redis' package for Python. Depending on whether you used **anaconda** or **pip** to install your dependencies, run either of following commands on your terminal:\n",
    "```\n",
    "pip install redis\n",
    "```\n",
    "\n",
    "```\n",
    "conda install -c anaconda redis\n",
    "```\n",
    "\n",
    "Then, before you run the notebook, start your redis server by typing following command into your terminal\n",
    "\n",
    "```\n",
    "redis-server\n",
    "```\n",
    "\n",
    "You can stop it again with\n",
    "```\n",
    "CTRL + C\n",
    "```\n",
    "\n",
    "In case you run into problems, please post the steps you took, your error message, and a screenshot on Piazza.\n",
    "\n",
    "## Let's get started"
   ]
  },
  {
   "cell_type": "code",
   "execution_count": 2,
   "metadata": {},
   "outputs": [],
   "source": [
    "import redis # Import the redis module\n",
    "\n",
    "from IPython.core.interactiveshell import InteractiveShell # allow displaying multiple variables per cell\n",
    "InteractiveShell.ast_node_interactivity = \"all\""
   ]
  },
  {
   "cell_type": "code",
   "execution_count": 3,
   "metadata": {},
   "outputs": [],
   "source": [
    "r = redis.Redis()"
   ]
  },
  {
   "cell_type": "code",
   "execution_count": 4,
   "metadata": {},
   "outputs": [
    {
     "data": {
      "text/plain": [
       "True"
      ]
     },
     "execution_count": 4,
     "metadata": {},
     "output_type": "execute_result"
    }
   ],
   "source": [
    "# Verify that the redis server is running\n",
    "try:\n",
    "    # r\n",
    "    r.ping()\n",
    "except Exception as ex:\n",
    "    # ex\n",
    "    print \"We have a problem: the server is not running\""
   ]
  },
  {
   "cell_type": "markdown",
   "metadata": {},
   "source": [
    "# Examples from slides\n",
    "Walk throught these examples to get you started"
   ]
  },
  {
   "cell_type": "code",
   "execution_count": null,
   "metadata": {},
   "outputs": [],
   "source": [
    "r.set(\"x\", \"10\")"
   ]
  },
  {
   "cell_type": "code",
   "execution_count": null,
   "metadata": {},
   "outputs": [],
   "source": [
    "r.get('x')"
   ]
  },
  {
   "cell_type": "code",
   "execution_count": null,
   "metadata": {},
   "outputs": [],
   "source": [
    "r.hset(\"h\", \"y\", \"5\")\n",
    "\n",
    "r.hget(\"h\", \"y\")"
   ]
  },
  {
   "cell_type": "code",
   "execution_count": null,
   "metadata": {},
   "outputs": [],
   "source": [
    "r.hset(\"h1\", \"name\", \"two\")\n",
    "r.hset(\"h1\", \"value\", 2)\n",
    "\n",
    "r.hkeys(\"h1\")\n",
    "\n",
    "r.hget(\"h1\", \"name\")\n",
    "\n",
    "r.hgetall(\"h1\")"
   ]
  },
  {
   "cell_type": "markdown",
   "metadata": {},
   "source": [
    "Comment: hset and hmset used to be different but are now identical:\n",
    "https://stackoverflow.com/questions/15264480/what-is-the-difference-between-hset-and-hmset-method-in-redis-database"
   ]
  },
  {
   "cell_type": "code",
   "execution_count": null,
   "metadata": {},
   "outputs": [],
   "source": [
    "r.hmset(\"p:22\", {\"name\": \"Alice\", \"age\": \"25\"})\n",
    "\n",
    "r.hkeys(\"p:22\")\n",
    "\n",
    "r.hmget(\"p:22\", \"name\", \"age\", \"name\")\n",
    "\n",
    "r.hgetall(\"p:22\")"
   ]
  },
  {
   "cell_type": "code",
   "execution_count": null,
   "metadata": {},
   "outputs": [],
   "source": [
    "r.sadd(\"s\", 20)\n",
    "r.sadd(\"s\", \"Alice\")\n",
    "r.sadd(\"s\", \"Alice\")\n",
    "\n",
    "r.smembers(\"s\")\n",
    "r.scard(\"s\")"
   ]
  },
  {
   "cell_type": "code",
   "execution_count": null,
   "metadata": {},
   "outputs": [],
   "source": [
    "r.delete(\"l\")\n",
    "\n",
    "r.rpush(\"l\", \"a\")\n",
    "r.rpush(\"l\", \"b\")\n",
    "r.lpush(\"l\", \"c\")\n",
    "\n",
    "r.llen(\"l\")"
   ]
  },
  {
   "cell_type": "code",
   "execution_count": null,
   "metadata": {},
   "outputs": [],
   "source": [
    "r.lrange(\"l\", 0, 5)\n",
    "r.lrange(\"l\", 1, 2)\n",
    "r.lindex(\"l\", 1)\n",
    "r.lrange(\"l\", 0, -1) # these returns you the entire list, notice the use of '-1'"
   ]
  },
  {
   "cell_type": "code",
   "execution_count": null,
   "metadata": {},
   "outputs": [],
   "source": [
    "r.lpop(\"l\")\n",
    "r.rpop(\"l\")\n",
    "r.lrange(\"l\", 0, -1)"
   ]
  },
  {
   "cell_type": "code",
   "execution_count": null,
   "metadata": {},
   "outputs": [],
   "source": [
    "r.keys()"
   ]
  },
  {
   "cell_type": "code",
   "execution_count": null,
   "metadata": {},
   "outputs": [],
   "source": [
    "r.exists(\"l\")"
   ]
  },
  {
   "cell_type": "code",
   "execution_count": null,
   "metadata": {},
   "outputs": [],
   "source": [
    "r.keys()"
   ]
  },
  {
   "cell_type": "code",
   "execution_count": null,
   "metadata": {},
   "outputs": [],
   "source": [
    "r.flushall()"
   ]
  },
  {
   "cell_type": "code",
   "execution_count": null,
   "metadata": {},
   "outputs": [],
   "source": [
    "r.keys()"
   ]
  },
  {
   "cell_type": "markdown",
   "metadata": {},
   "source": [
    "# Transactions\n",
    "\n",
    "Redis support transactions. \n",
    "\n",
    "\n",
    "```\n",
    "> MULTI \n",
    "OK\n",
    "\n",
    "> SET y 8 \n",
    "QUEUED \n",
    "\n",
    "> INCR count \n",
    "QUEUED \n",
    "\n",
    "> EXEC\n",
    "1) OK\n",
    "2) (integer) 2\n",
    "\n",
    "```\n",
    "\n"
   ]
  },
  {
   "cell_type": "code",
   "execution_count": null,
   "metadata": {},
   "outputs": [],
   "source": [
    "p = r.pipeline()\n",
    "p.set(\"y\", 8)\n",
    "p.incr(\"count\")\n",
    "p.execute()"
   ]
  },
  {
   "cell_type": "markdown",
   "metadata": {},
   "source": [
    "# More examples"
   ]
  },
  {
   "cell_type": "code",
   "execution_count": null,
   "metadata": {},
   "outputs": [],
   "source": [
    "r.set('count',1)"
   ]
  },
  {
   "cell_type": "code",
   "execution_count": null,
   "metadata": {},
   "outputs": [],
   "source": [
    "r.incr('count')"
   ]
  },
  {
   "cell_type": "code",
   "execution_count": null,
   "metadata": {},
   "outputs": [],
   "source": [
    "r.decr('count')"
   ]
  },
  {
   "cell_type": "code",
   "execution_count": null,
   "metadata": {},
   "outputs": [],
   "source": [
    "r.rpush(\"students\", \"peter\")"
   ]
  },
  {
   "cell_type": "code",
   "execution_count": null,
   "metadata": {},
   "outputs": [],
   "source": [
    "r.llen(\"students\")"
   ]
  },
  {
   "cell_type": "code",
   "execution_count": null,
   "metadata": {},
   "outputs": [],
   "source": [
    "r.rpush(\"students\", \"ruth\")"
   ]
  },
  {
   "cell_type": "code",
   "execution_count": null,
   "metadata": {},
   "outputs": [],
   "source": [
    "r.lindex(\"students\", 1)"
   ]
  },
  {
   "cell_type": "code",
   "execution_count": null,
   "metadata": {},
   "outputs": [],
   "source": [
    "r.rpush(\"students\", [\"jones\"])"
   ]
  },
  {
   "cell_type": "code",
   "execution_count": null,
   "metadata": {},
   "outputs": [],
   "source": [
    "r.rpush(\"students\", [\"jones\", \"freddy\", \"mary\"])"
   ]
  },
  {
   "cell_type": "code",
   "execution_count": null,
   "metadata": {},
   "outputs": [],
   "source": [
    "r.lrange(\"students\", 0, -1)"
   ]
  },
  {
   "cell_type": "markdown",
   "metadata": {},
   "source": [
    "# IMDB exercise"
   ]
  },
  {
   "cell_type": "markdown",
   "metadata": {},
   "source": [
    "We try Redis for implementing the IMDB movie database. As a test run, we store a subset of the schema (Actors, Movies, Directors, and the connecting tables) and include a few tuples and queries. \n",
    "\n",
    "* Give each movie a unique identifier such as `m:2`, `m:7`, `m:8`, ... where the number is the mid from the IMDB movie database. \n",
    "* Actors and Directors receive unique identifiers analogously, such as `a:1`, `a:3`,  ... , and `d:213`, `d:435`, ...\n",
    "* When the movie id is used as key, its value is a hash containing all the movie's attributes (e.g., `m:1 -> \"name\": \"Starwars\", \"year\": 1977`). When the actor id or director is used as a key, its value is a hash containing the attributes of actors or directors (you may have to check our IMDB movie database in case you don't remember) . \n",
    "* The directors of a movie are stored in the values for the key formed by suffixing :d to the movie id (e.g., `m:2:d`) as a set of director ids (e.g., `{\"d:213\", \"d:435\"}`). \n",
    "* An actor’s roles are stored as in this example: key `m:2:a:8`, value `{\"bartender\", \"cab driver\"}`. \n",
    "\n",
    "For the following problems you need to issue appropriate SQL queries over your local IMDB movie database to find out the missing attribute values (e.g., what is the name of actor `a:538826`, etc..\n"
   ]
  },
  {
   "cell_type": "markdown",
   "metadata": {},
   "source": [
    "**a)** Make an entry for the movie with id 476084 in the IMDB movie database"
   ]
  },
  {
   "cell_type": "code",
   "execution_count": null,
   "metadata": {},
   "outputs": [],
   "source": []
  },
  {
   "cell_type": "markdown",
   "metadata": {},
   "source": [
    "**b)** Make entries for the actors with ids 538826, 1794091, 1810514 in the IMDB movie database"
   ]
  },
  {
   "cell_type": "code",
   "execution_count": null,
   "metadata": {},
   "outputs": [],
   "source": []
  },
  {
   "cell_type": "markdown",
   "metadata": {},
   "source": [
    "**c)** Make entries for the director with id 170296 in the IMDB movie database.\n"
   ]
  },
  {
   "cell_type": "code",
   "execution_count": null,
   "metadata": {},
   "outputs": [],
   "source": []
  },
  {
   "cell_type": "markdown",
   "metadata": {},
   "source": [
    "**d)** Associate the director ``d:170296`` as the director for movie ``m:476084``, according to the desired schema."
   ]
  },
  {
   "cell_type": "code",
   "execution_count": null,
   "metadata": {},
   "outputs": [],
   "source": []
  },
  {
   "cell_type": "markdown",
   "metadata": {},
   "source": [
    "**e)** Associate the three actors with the movie, according to the desired scheme. Pay attention that an actor can play multiple roles in a movie. Copy the exact same information as is stored in our IMDB movie database.\n"
   ]
  },
  {
   "cell_type": "code",
   "execution_count": null,
   "metadata": {},
   "outputs": [],
   "source": []
  },
  {
   "cell_type": "markdown",
   "metadata": {},
   "source": [
    "**f)** Query the number of directors for the movie `m:476084`."
   ]
  },
  {
   "cell_type": "code",
   "execution_count": null,
   "metadata": {},
   "outputs": [],
   "source": []
  },
  {
   "cell_type": "markdown",
   "metadata": {},
   "source": [
    "**g)** Query the set of ids for all directors of the movie m:`476084`."
   ]
  },
  {
   "cell_type": "code",
   "execution_count": null,
   "metadata": {},
   "outputs": [],
   "source": []
  },
  {
   "cell_type": "markdown",
   "metadata": {},
   "source": [
    "**h)** Determine whether actor `a:538826` acted in `m:476084`. \n",
    "        Then repeat the query for actor `a:1`."
   ]
  },
  {
   "cell_type": "code",
   "execution_count": null,
   "metadata": {},
   "outputs": [],
   "source": []
  },
  {
   "cell_type": "markdown",
   "metadata": {},
   "source": [
    "**i)** Change the release year of `m:476084` to 2018."
   ]
  },
  {
   "cell_type": "code",
   "execution_count": null,
   "metadata": {},
   "outputs": [],
   "source": []
  },
  {
   "cell_type": "markdown",
   "metadata": {},
   "source": [
    "**j)** Verify that the release year has been updated by retrieving all attributes for movie `m:476084`."
   ]
  },
  {
   "cell_type": "code",
   "execution_count": null,
   "metadata": {},
   "outputs": [],
   "source": []
  },
  {
   "cell_type": "markdown",
   "metadata": {},
   "source": [
    "# Intersted to learn more?\n",
    "In case you are intersted and want to learn more about redis and the Python module we are using, check out:\n",
    "* https://redislabs.com/lp/python-redis/\n",
    "\n",
    "* https://redis.io/topics/quickstart\n",
    "\n",
    "* https://pypi.python.org/pypi/redis\n"
   ]
  }
 ],
 "metadata": {
  "kernelspec": {
   "display_name": "Python 2",
   "language": "python",
   "name": "python2"
  },
  "language_info": {
   "codemirror_mode": {
    "name": "ipython",
    "version": 2
   },
   "file_extension": ".py",
   "mimetype": "text/x-python",
   "name": "python",
   "nbconvert_exporter": "python",
   "pygments_lexer": "ipython2",
   "version": "2.7.14"
  }
 },
 "nbformat": 4,
 "nbformat_minor": 1
}
