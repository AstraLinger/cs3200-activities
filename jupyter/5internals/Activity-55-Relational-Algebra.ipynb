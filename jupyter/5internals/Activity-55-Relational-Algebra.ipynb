{
 "cells": [
  {
   "cell_type": "markdown",
   "metadata": {},
   "source": [
    "# Activity 45: Relational Algebra & Logical Equivalence\n",
    "\n",
    "### Note: You may need to install `markdown`:\n",
    "\n",
    "```\n",
    "pip install markdown\n",
    "```\n",
    "\n",
    "Please ignore the \"deprecation message\" you may get below."
   ]
  },
  {
   "cell_type": "code",
   "execution_count": null,
   "metadata": {},
   "outputs": [],
   "source": [
    "%load_ext sql\n",
    "%sql sqlite://\n",
    "\n",
    "%load_ext autoreload\n",
    "%autoreload 2\n",
    "\n",
    "# To help render markdown\n",
    "from IPython.core.display import display, HTML\n",
    "from markdown import markdown\n",
    "def render_markdown_raw(m): return display(HTML(markdown(m))) # must be last element of cell.\n",
    "def render_markdown(m): return render_markdown_raw(m.toMD())\n",
    "\n",
    "# import the relational algbera operators\n",
    "from relation_algebra import Select, Project, Union, NJoin, CrossProduct, BaseRelation\n",
    "from relation_algebra import get_result, compare_results\n",
    "\n",
    "from display_tools import side_by_side\n",
    "\n",
    "import random"
   ]
  },
  {
   "cell_type": "code",
   "execution_count": null,
   "metadata": {},
   "outputs": [],
   "source": [
    "%%sql\n",
    "drop table if exists R; create table R(A int, B int);\n",
    "drop table if exists S; create table S(B int, C int);\n",
    "drop table if exists T; create table T(C int, D int);\n",
    "drop table if exists U; create table U(D int, E int);"
   ]
  },
  {
   "cell_type": "code",
   "execution_count": null,
   "metadata": {},
   "outputs": [],
   "source": [
    "for x in range(0,10,2):\n",
    "    for y in range(0,10,3):\n",
    "        %sql INSERT INTO R VALUES (:x, :y);\n",
    "for x in range(0,20,4):\n",
    "    for y in range(0,10,2):\n",
    "        %sql INSERT INTO S VALUES (:x, :y);\n",
    "for x in range(0,5,1):\n",
    "    for y in range(0,10,2):\n",
    "        %sql INSERT INTO T VALUES (:x, :y);"
   ]
  },
  {
   "cell_type": "markdown",
   "metadata": {},
   "source": [
    "# Tutorial: Relational Algebra Python Toolkit\n",
    "\n",
    "We'll use a python toolkit that the Stanford made to play around with RA.  We'll get started with a quick tutorial, but the syntax should also be pretty intuitive (feel free to look at the source code too!)\n",
    "\n",
    "#### BaseRelation class\n",
    "\n",
    "Recall that in our RA operations we'll deal with sets; to get started, we need to take SQL output and turn it into a `BaseRelation` object, which we can optionally name:"
   ]
  },
  {
   "cell_type": "code",
   "execution_count": null,
   "metadata": {},
   "outputs": [],
   "source": [
    "r = %sql SELECT * FROM R;\n",
    "R = BaseRelation(r, name=\"R\")\n",
    "\n",
    "s = %sql SELECT * FROM S;\n",
    "S = BaseRelation(s, name=\"S\")\n",
    "\n",
    "t = %sql SELECT * FROM T;\n",
    "T = BaseRelation(t, name=\"T\")"
   ]
  },
  {
   "cell_type": "markdown",
   "metadata": {},
   "source": [
    "For **all operators in the toolkit**, we can use `get_result` to see the set we have:"
   ]
  },
  {
   "cell_type": "code",
   "execution_count": null,
   "metadata": {},
   "outputs": [],
   "source": [
    "print(get_result(R))"
   ]
  },
  {
   "cell_type": "markdown",
   "metadata": {},
   "source": [
    "And (again **for all operators in our toolkit**) we can use `render_markdown(R)`\n",
    "\n",
    "**_NOTE: This function requires that you have installed the `markdown` python library.  It's just for this function / pretty printing, so if you weren't able to install this library, don't worry!_**"
   ]
  },
  {
   "cell_type": "code",
   "execution_count": null,
   "metadata": {},
   "outputs": [],
   "source": [
    "render_markdown(R)\n",
    "render_markdown(S)\n",
    "render_markdown(T)"
   ]
  },
  {
   "cell_type": "markdown",
   "metadata": {},
   "source": [
    "#### Selection, Projection, NJoin (Natural Join) classes"
   ]
  },
  {
   "cell_type": "code",
   "execution_count": null,
   "metadata": {},
   "outputs": [],
   "source": [
    "s = Select(\"A\", 2, R) # selection on A=2 for relation R\n",
    "render_markdown(s)\n",
    "print(get_result(s))"
   ]
  },
  {
   "cell_type": "code",
   "execution_count": null,
   "metadata": {},
   "outputs": [],
   "source": [
    "p = Project([\"A\"], R)\n",
    "render_markdown(p)\n",
    "print(get_result(p))"
   ]
  },
  {
   "cell_type": "code",
   "execution_count": null,
   "metadata": {},
   "outputs": [],
   "source": [
    "j = NJoin(R, S) # Natural Join. \n",
    "render_markdown(j)\n",
    "print(get_result(j))"
   ]
  },
  {
   "cell_type": "markdown",
   "metadata": {},
   "source": [
    "#### Compositionality\n",
    "\n",
    "Most importantly, these operators are all compositional, so you can pass them in as inputs to each other (as we already did with passing `BaseRelation` into the operators above)!"
   ]
  },
  {
   "cell_type": "code",
   "execution_count": null,
   "metadata": {},
   "outputs": [],
   "source": [
    "ps = Project([\"A\"], Select(\"A\", 2, R))\n",
    "render_markdown(ps)\n",
    "print(get_result(ps))"
   ]
  },
  {
   "cell_type": "code",
   "execution_count": null,
   "metadata": {},
   "outputs": [],
   "source": [
    "pj = Project([\"A\"], NJoin(R, S)) \n",
    "render_markdown(pj)\n",
    "print(get_result(pj))"
   ]
  },
  {
   "cell_type": "markdown",
   "metadata": {},
   "source": [
    "# The Exercise starts really here "
   ]
  },
  {
   "cell_type": "markdown",
   "metadata": {},
   "source": [
    "### Exercise 1: SQL -> RA\n",
    "\n",
    "Let's go through some examples where we'll translate SQL to Relational Algebra- note you can use the tools to debug / test your answers!\n",
    "\n",
    "**NOTE: The instances we use are randomly generated- feel free to re-generate above to get more useful test examples!**"
   ]
  },
  {
   "cell_type": "code",
   "execution_count": null,
   "metadata": {},
   "outputs": [],
   "source": [
    "r = %sql SELECT * FROM R;\n",
    "s = %sql SELECT * FROM S;\n",
    "side_by_side(r,s)"
   ]
  },
  {
   "cell_type": "markdown",
   "metadata": {},
   "source": [
    "**For each of the below queries, translate them from SQL into RA using the python RA toolkit!**"
   ]
  },
  {
   "cell_type": "markdown",
   "metadata": {},
   "source": [
    "### Exercise 1a"
   ]
  },
  {
   "cell_type": "code",
   "execution_count": null,
   "metadata": {},
   "outputs": [],
   "source": [
    "%%sql\n",
    "SELECT DISTINCT R.B\n",
    "FROM R\n",
    "WHERE R.A = 2;"
   ]
  },
  {
   "cell_type": "code",
   "execution_count": null,
   "metadata": {},
   "outputs": [],
   "source": []
  },
  {
   "cell_type": "markdown",
   "metadata": {},
   "source": [
    "### Exercise 1b"
   ]
  },
  {
   "cell_type": "code",
   "execution_count": null,
   "metadata": {},
   "outputs": [],
   "source": [
    "%%sql\n",
    "SELECT DISTINCT R.A, S.C\n",
    "FROM R, S\n",
    "WHERE R.B = S.B;"
   ]
  },
  {
   "cell_type": "code",
   "execution_count": null,
   "metadata": {},
   "outputs": [],
   "source": []
  },
  {
   "cell_type": "markdown",
   "metadata": {},
   "source": [
    "### Exercise 1c"
   ]
  },
  {
   "cell_type": "code",
   "execution_count": null,
   "metadata": {},
   "outputs": [],
   "source": [
    "%%sql\n",
    "SELECT DISTINCT R.A, T.D\n",
    "FROM R, S, T\n",
    "WHERE R.B = S.B AND S.C = T.C AND R.A = 2;"
   ]
  },
  {
   "cell_type": "code",
   "execution_count": null,
   "metadata": {},
   "outputs": [],
   "source": []
  },
  {
   "cell_type": "markdown",
   "metadata": {},
   "source": [
    "### Exercise 2: RA -> SQL\n",
    "\n",
    "Let's go through some examples where we'll translate Relational Algebra to SQL- note you can use the tools to debug / test your answers!\n",
    "\n",
    "**NOTE: The instances we use are randomly generated- feel free to re-generate above to get more useful test examples!**"
   ]
  },
  {
   "cell_type": "markdown",
   "metadata": {},
   "source": [
    "### Exercise 2a"
   ]
  },
  {
   "cell_type": "code",
   "execution_count": null,
   "metadata": {},
   "outputs": [],
   "source": [
    "x = Select(\"B\", 0, Project([\"B\"], BaseRelation(s, name=\"S\")))\n",
    "render_markdown(x)\n",
    "print(get_result(x))"
   ]
  },
  {
   "cell_type": "code",
   "execution_count": null,
   "metadata": {},
   "outputs": [],
   "source": [
    "%%sql\n",
    "--WRITE YOUR QUERY HERE!"
   ]
  },
  {
   "cell_type": "markdown",
   "metadata": {},
   "source": [
    "### Exercise 2b"
   ]
  },
  {
   "cell_type": "code",
   "execution_count": null,
   "metadata": {},
   "outputs": [],
   "source": [
    "x = Project([\"A\",\"C\"],\n",
    "        NJoin(\n",
    "            NJoin(Select(\"B\", 0, BaseRelation(r, name=\"R\")), BaseRelation(s, name=\"S\")),\n",
    "            Select(\"C\", 0, BaseRelation(t, name=\"T\"))))\n",
    "render_markdown(x)\n",
    "print(get_result(x))"
   ]
  },
  {
   "cell_type": "code",
   "execution_count": null,
   "metadata": {},
   "outputs": [],
   "source": []
  },
  {
   "cell_type": "markdown",
   "metadata": {},
   "source": [
    "### Exercise 2c\n",
    "\n",
    "Turn the below into SQL!  To verify your solution, we give you the equivalent RA expression in the Python toolkit below. You first want to change the random data instance in a way that allows you to verify your solution against a meaningful result set."
   ]
  },
  {
   "cell_type": "markdown",
   "metadata": {},
   "source": [
    "**Exercise 2c-1**: Create a data instance that allows you to compare the query result of your SQL solution against the Relational Algebra version, by modifying following random data generator."
   ]
  },
  {
   "cell_type": "code",
   "execution_count": null,
   "metadata": {},
   "outputs": [],
   "source": [
    "for x in range(0,10,2):\n",
    "    for y in range(0,10,3):\n",
    "        %sql INSERT INTO R VALUES (:x, :y);\n",
    "for x in range(0,20,4):\n",
    "    for y in range(0,10,2):\n",
    "        %sql INSERT INTO S VALUES (:x, :y);\n",
    "for x in range(0,5,1):\n",
    "    for y in range(0,10,2):\n",
    "        %sql INSERT INTO T VALUES (:x, :y);\n",
    "for x in range(0,10,2):\n",
    "    for y in range(0,5,1):\n",
    "        %sql INSERT INTO U VALUES (:x, :y);"
   ]
  },
  {
   "cell_type": "code",
   "execution_count": null,
   "metadata": {},
   "outputs": [],
   "source": [
    "r = %sql SELECT * FROM R;\n",
    "R = BaseRelation(r, name=\"R\")\n",
    "s = %sql SELECT * FROM S;\n",
    "S = BaseRelation(s, name=\"S\")\n",
    "t = %sql SELECT * FROM T;\n",
    "T = BaseRelation(t, name=\"T\")\n",
    "u = %sql SELECT * FROM U;\n",
    "U = BaseRelation(u, name=\"U\")"
   ]
  },
  {
   "cell_type": "markdown",
   "metadata": {},
   "source": [
    "<img src=\"files/Act-16-1.png\">"
   ]
  },
  {
   "cell_type": "code",
   "execution_count": null,
   "metadata": {},
   "outputs": [],
   "source": [
    "x = Project([\"A\"],\n",
    "        NJoin(\n",
    "            BaseRelation(r, name=\"R\"), NJoin(\n",
    "                Project([\"B\", \"D\"], NJoin(\n",
    "                    BaseRelation(s, name=\"S\"), \n",
    "                    Select(\"D\", 3, BaseRelation(t, name=\"T\"))) \n",
    "                       ), \n",
    "                Project([\"D\"], Select(\"E\", 1, BaseRelation(u, name=\"U\")))\n",
    "            )\n",
    "        )\n",
    "           )\n",
    "render_markdown(x)\n",
    "print(get_result(x))"
   ]
  },
  {
   "cell_type": "markdown",
   "metadata": {},
   "source": [
    "**Excercise 2c-2:** Write the SQL query"
   ]
  },
  {
   "cell_type": "code",
   "execution_count": null,
   "metadata": {},
   "outputs": [],
   "source": []
  },
  {
   "cell_type": "markdown",
   "metadata": {},
   "source": [
    "After learning about the query plans and what a database actually does, isn't our declarative SQL so much easier..."
   ]
  }
 ],
 "metadata": {
  "kernelspec": {
   "display_name": "Python 2",
   "language": "python",
   "name": "python2"
  },
  "language_info": {
   "codemirror_mode": {
    "name": "ipython",
    "version": 2
   },
   "file_extension": ".py",
   "mimetype": "text/x-python",
   "name": "python",
   "nbconvert_exporter": "python",
   "pygments_lexer": "ipython2",
   "version": "2.7.14"
  }
 },
 "nbformat": 4,
 "nbformat_minor": 1
}
