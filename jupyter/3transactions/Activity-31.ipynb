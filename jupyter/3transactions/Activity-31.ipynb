{
 "cells": [
  {
   "cell_type": "markdown",
   "metadata": {},
   "source": [
    "Activity 31\n",
    "------------\n",
    "\n",
    "## The questions you must answer are marked with \"**Q:**\"\n",
    "\n",
    "In this activity, we'll introduce a visualization of TXNs from the Stanford folks - the **TXN Viewer**!\n",
    "\n",
    "To get the TXN Viewer to work, make sure that the following files are in the _same directory_ as this IPython notebook:\n",
    "* `txn_viewer.py`\n",
    "* `txnViewer.js`\n",
    "\n",
    "Also note that you'll need an internet connection to use the TXN Viewer (just for loading the javascript animation library!)\n",
    "\n",
    "### Activity:\n",
    "\n",
    "We'll start with the example from lecture, implemented in serial fashion in our TXN viewer. Don't worry if you are new to Python! Just play with the code, change it, and explore - you can't destroy anything.\n",
    "\n",
    "### Example 1"
   ]
  },
  {
   "cell_type": "code",
   "execution_count": null,
   "metadata": {},
   "outputs": [],
   "source": [
    "from txn_viewer import TransactionManager\n",
    "\n",
    "# We create a TransactionManager object with a certain number of threads\n",
    "# (those are the different transactions, numbered 0, 1, 2, ...),\n",
    "# and optionally with initial values for objects\n",
    "# (variables are given names 'A', 'B' in this example)\n",
    "tm = TransactionManager(n_threads=2, \n",
    "                        initial_main_vals={'A':50, 'B':200})\n",
    "\n",
    "# T0: Give interest\n",
    "INTEREST_RATE = 1.06\n",
    "\n",
    "a0 = tm.read(0, 'A')  # transaction 0 reads the value of 'A' into a0\n",
    "tm.write(0, 'A', a0*INTEREST_RATE)\n",
    "\n",
    "b0 = tm.read(0, 'B')\n",
    "tm.write(0, 'B', b0*INTEREST_RATE)\n",
    "\n",
    "\n",
    "# T1: Transfer funds\n",
    "\n",
    "a1 = tm.read(1, 'A')\n",
    "tm.write(1, 'A', a1 + 100)\n",
    "\n",
    "b1 = tm.read(1, 'B')\n",
    "tm.write(1, 'B', b1 - 100)\n",
    "\n",
    "tm.display(chart_num=0) # change the \"chart_num\" if you copy and paste the code"
   ]
  },
  {
   "cell_type": "markdown",
   "metadata": {},
   "source": [
    "### Example 2:"
   ]
  },
  {
   "cell_type": "code",
   "execution_count": null,
   "metadata": {},
   "outputs": [],
   "source": [
    "tm = TransactionManager(n_threads=3, \n",
    "                        initial_main_vals={'C':100, 'D':100})\n",
    "\n",
    "# T0: Add 100 everywhere\n",
    "ADDITION0 = 100\n",
    "\n",
    "c0 = tm.read(0, 'C')\n",
    "tm.write(0, 'C', c0 + ADDITION0)\n",
    "\n",
    "d0 = tm.read(0, 'D')\n",
    "tm.write(0, 'D', d0 + ADDITION0)\n",
    "\n",
    "\n",
    "# T1: Add 200 everywhere\n",
    "ADDITION1 = 200\n",
    "\n",
    "c1 = tm.read(1, 'C')\n",
    "tm.write(1, 'C', c1 + ADDITION1)\n",
    "\n",
    "d1 = tm.read(1, 'D')\n",
    "tm.write(1, 'D', d1 + ADDITION1)\n",
    "\n",
    "\n",
    "# T2: double\n",
    "\n",
    "c2 = tm.read(2, 'C') \n",
    "tm.write(2, 'C', c2*2)\n",
    "\n",
    "d2 = tm.read(2, 'D') \n",
    "tm.write(2, 'D', c2*2)\n",
    "\n",
    "\n",
    "\n",
    "tm.display(chart_num=1)"
   ]
  },
  {
   "cell_type": "markdown",
   "metadata": {},
   "source": [
    "### Exercise 31-1\n",
    "\n",
    "Let's come up with _serializable_ schedules for **Example 1** above\n",
    "\n",
    "First, think to yourself about the following questions:\n",
    "\n",
    "How many can serializable schedules can you find?  What about unserializable ones?  Use the above TXN viewer to explore.\n",
    "\n",
    "**Q:** *Now - How many conflict equivalent schedules are there for these transactions? Explain how you arrived at your answer.*"
   ]
  },
  {
   "cell_type": "code",
   "execution_count": null,
   "metadata": {},
   "outputs": [],
   "source": []
  },
  {
   "cell_type": "markdown",
   "metadata": {},
   "source": [
    "### Exercise 31-2\n",
    "\n",
    "**Q:** What kind of anomaly occurs below?"
   ]
  },
  {
   "cell_type": "code",
   "execution_count": null,
   "metadata": {},
   "outputs": [],
   "source": [
    "from txn_viewer import TransactionManager\n",
    "\n",
    "# We create a TransactionManager object with 3 threads\n",
    "# and one intialized value\n",
    "tm = TransactionManager(n_threads=3, \n",
    "                        initial_main_vals={'A':50})\n",
    "\n",
    "a0 = tm.read(0, 'A')\n",
    "\n",
    "tm.write(1, 'A', 65)\n",
    "\n",
    "tm.write(0, 'A', 45)\n",
    "\n",
    "tm.write(2, 'A', 75)\n",
    "\n",
    "tm.display(chart_num=2)"
   ]
  },
  {
   "cell_type": "code",
   "execution_count": null,
   "metadata": {},
   "outputs": [],
   "source": []
  },
  {
   "cell_type": "markdown",
   "metadata": {},
   "source": [
    "### Exercise 31-3\n",
    "**Q:** Fill in the cell below with with examples of classic anomalies\n",
    "\n",
    "You can think about the scenario of several accounts at a bank, or choose a scenario of interest to you."
   ]
  },
  {
   "cell_type": "code",
   "execution_count": null,
   "metadata": {},
   "outputs": [],
   "source": [
    "from txn_viewer import TransactionManager\n",
    "\n",
    "# Create a TransactionManager object with a certain number of transactions (threads),\n",
    "# and optionally initialize some data item\n",
    "tm = TransactionManager(n_threads= ???, \n",
    "                        initial_main_vals={'?':?, ...})\n",
    "\n",
    "# unrepeatable read\n",
    "\n",
    "\n",
    "\n",
    "# dirty read\n",
    "\n",
    "\n",
    "\n",
    "# inconsistent read\n",
    "\n",
    "\n",
    "\n",
    "# partially lost update\n",
    "\n",
    "\n",
    "\n",
    "tm.display(chart_num=3)"
   ]
  }
 ],
 "metadata": {
  "kernelspec": {
   "display_name": "Python 2",
   "language": "python",
   "name": "python2"
  },
  "language_info": {
   "codemirror_mode": {
    "name": "ipython",
    "version": 2
   },
   "file_extension": ".py",
   "mimetype": "text/x-python",
   "name": "python",
   "nbconvert_exporter": "python",
   "pygments_lexer": "ipython2",
   "version": "2.7.15"
  }
 },
 "nbformat": 4,
 "nbformat_minor": 1
}
